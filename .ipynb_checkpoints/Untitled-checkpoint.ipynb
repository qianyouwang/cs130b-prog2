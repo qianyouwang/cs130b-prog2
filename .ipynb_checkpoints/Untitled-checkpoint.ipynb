{
 "cells": [
  {
   "cell_type": "code",
   "execution_count": 3,
   "id": "759cdfd6-e242-48df-acf6-40e2adb69944",
   "metadata": {},
   "outputs": [],
   "source": [
    "import matplotlib.pyplot\n",
    "import math\n",
    "import numpy as np\n",
    "import pandas as pd"
   ]
  },
  {
   "cell_type": "code",
   "execution_count": 9,
   "id": "8f5af47b-fde7-4cc4-8f9c-3e8c13fd4945",
   "metadata": {},
   "outputs": [],
   "source": [
    "data = pd.read_csv('test03.txt', sep=\" \", header=None, skiprows=1)\n",
    "data = data[0:20]"
   ]
  },
  {
   "cell_type": "code",
   "execution_count": null,
   "id": "2e6d678f-5c1a-42f1-9e60-d89f3f4e7f69",
   "metadata": {},
   "outputs": [],
   "source": [
    "x,y = data.T\n",
    "plt.scatter(x,y)"
   ]
  }
 ],
 "metadata": {
  "kernelspec": {
   "display_name": "Python 3 (ipykernel)",
   "language": "python",
   "name": "python3"
  },
  "language_info": {
   "codemirror_mode": {
    "name": "ipython",
    "version": 3
   },
   "file_extension": ".py",
   "mimetype": "text/x-python",
   "name": "python",
   "nbconvert_exporter": "python",
   "pygments_lexer": "ipython3",
   "version": "3.9.7"
  }
 },
 "nbformat": 4,
 "nbformat_minor": 5
}
