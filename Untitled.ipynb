{
 "cells": [
  {
   "cell_type": "code",
   "execution_count": 16,
   "id": "759cdfd6-e242-48df-acf6-40e2adb69944",
   "metadata": {},
   "outputs": [],
   "source": [
    "import matplotlib.pyplot as plt\n",
    "import math\n",
    "import numpy as np\n",
    "import pandas as pd"
   ]
  },
  {
   "cell_type": "code",
   "execution_count": 17,
   "id": "8f5af47b-fde7-4cc4-8f9c-3e8c13fd4945",
   "metadata": {},
   "outputs": [],
   "source": [
    "data = pd.read_csv('test03.txt', sep=\" \", header=None, skiprows=1)\n",
    "data = np.array(data[0:20])"
   ]
  },
  {
   "cell_type": "code",
   "execution_count": 22,
   "id": "4ddbe199-2e99-4c41-973f-ed73504c1b80",
   "metadata": {},
   "outputs": [
    {
     "data": {
      "text/plain": [
       "array([[ 25.1441, -86.8942],\n",
       "       [ 75.7733, -80.5091],\n",
       "       [-48.1292, -53.1338],\n",
       "       [ 51.646 ,  18.2199],\n",
       "       [ 73.1054,  -5.4502],\n",
       "       [ 27.8136, -69.8767],\n",
       "       [ 34.2823, -87.1937],\n",
       "       [ 43.7648,  75.7626],\n",
       "       [-72.8062, -56.6026],\n",
       "       [-11.0758,  87.1173],\n",
       "       [-21.0073,  60.1818],\n",
       "       [ 26.9721,  73.6091],\n",
       "       [  4.6362,  48.2504],\n",
       "       [-26.009 ,  20.784 ],\n",
       "       [ 67.2923,  -4.7294],\n",
       "       [ 42.8259,  84.2197],\n",
       "       [-97.3664,  67.4938],\n",
       "       [-39.7465, -93.7976],\n",
       "       [ 99.129 ,  -5.9473],\n",
       "       [-52.4071,   8.8458]])"
      ]
     },
     "execution_count": 22,
     "metadata": {},
     "output_type": "execute_result"
    }
   ],
   "source": [
    "data"
   ]
  },
  {
   "cell_type": "code",
   "execution_count": 23,
   "id": "2e6d678f-5c1a-42f1-9e60-d89f3f4e7f69",
   "metadata": {},
   "outputs": [
    {
     "data": {
      "image/png": "[encoded data removed]",
      "text/plain": [
       "<Figure size 432x288 with 1 Axes>"
      ]
     },
     "metadata": {
      "needs_background": "light"
     },
     "output_type": "display_data"
    }
   ],
   "source": [
    "x,y = data.T\n",
    "plt.scatter(x,y)\n",
    "for i in range(20):\n",
    "    plt.annotate(i, (data[i][0], data[i][1]))"
   ]
  },
  {
   "cell_type": "code",
   "execution_count": null,
   "id": "e3e3a41f-a90a-4a0b-b51e-c30b88786b8c",
   "metadata": {},
   "outputs": [],
   "source": []
  }
 ],
 "metadata": {
  "kernelspec": {
   "display_name": "Python 3 (ipykernel)",
   "language": "python",
   "name": "python3"
  },
  "language_info": {
   "codemirror_mode": {
    "name": "ipython",
    "version": 3
   },
   "file_extension": ".py",
   "mimetype": "text/x-python",
   "name": "python",
   "nbconvert_exporter": "python",
   "pygments_lexer": "ipython3",
   "version": "3.9.7"
  }
 },
 "nbformat": 4,
 "nbformat_minor": 5
}
